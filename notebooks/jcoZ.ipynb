{
 "cells": [
  {
   "cell_type": "code",
   "execution_count": 1,
   "metadata": {
    "ExecuteTime": {
     "end_time": "2021-02-01T13:04:44.845748Z",
     "start_time": "2021-02-01T13:04:36.482603Z"
    }
   },
   "outputs": [],
   "source": [
    "import pandas as pd\n",
    "from pandas_profiling import ProfileReport\n",
    "from sklearn.ensemble import RandomForestClassifier\n",
    "from sklearn.metrics import roc_curve\n",
    "from sklearn.metrics import roc_auc_score\n",
    "from sklearn import metrics\n",
    "from sklearn.metrics import accuracy_score\n",
    "from sklearn.model_selection import cross_val_score\n",
    "import matplotlib.pyplot as plt"
   ]
  },
  {
   "cell_type": "code",
   "execution_count": 2,
   "metadata": {
    "ExecuteTime": {
     "end_time": "2021-02-01T13:04:45.031247Z",
     "start_time": "2021-02-01T13:04:44.849461Z"
    }
   },
   "outputs": [],
   "source": [
    "activate_profiling = False\n",
    "df_train = pd.read_csv(\"../data/data_train.csv\")\n",
    "df_test = pd.read_csv(\"../data/data_test.csv\")\n",
    "target = 'income'"
   ]
  },
  {
   "cell_type": "code",
   "execution_count": 3,
   "metadata": {
    "ExecuteTime": {
     "end_time": "2021-02-01T13:04:45.217603Z",
     "start_time": "2021-02-01T13:04:45.048270Z"
    }
   },
   "outputs": [
    {
     "data": {
      "text/html": [
       "<div>\n",
       "<style scoped>\n",
       "    .dataframe tbody tr th:only-of-type {\n",
       "        vertical-align: middle;\n",
       "    }\n",
       "\n",
       "    .dataframe tbody tr th {\n",
       "        vertical-align: top;\n",
       "    }\n",
       "\n",
       "    .dataframe thead th {\n",
       "        text-align: right;\n",
       "    }\n",
       "</style>\n",
       "<table border=\"1\" class=\"dataframe\">\n",
       "  <thead>\n",
       "    <tr style=\"text-align: right;\">\n",
       "      <th></th>\n",
       "      <th>age</th>\n",
       "      <th>workclass</th>\n",
       "      <th>fnlwgt</th>\n",
       "      <th>education</th>\n",
       "      <th>education-num</th>\n",
       "      <th>marital-status</th>\n",
       "      <th>occupation</th>\n",
       "      <th>relationship</th>\n",
       "      <th>race</th>\n",
       "      <th>sex</th>\n",
       "      <th>capital-gain</th>\n",
       "      <th>capital-loss</th>\n",
       "      <th>hours-per-week</th>\n",
       "      <th>native-country</th>\n",
       "      <th>income</th>\n",
       "    </tr>\n",
       "  </thead>\n",
       "  <tbody>\n",
       "    <tr>\n",
       "      <th>0</th>\n",
       "      <td>39</td>\n",
       "      <td>7</td>\n",
       "      <td>77516</td>\n",
       "      <td>9</td>\n",
       "      <td>13</td>\n",
       "      <td>4</td>\n",
       "      <td>1</td>\n",
       "      <td>1</td>\n",
       "      <td>4</td>\n",
       "      <td>1</td>\n",
       "      <td>2174</td>\n",
       "      <td>0</td>\n",
       "      <td>40</td>\n",
       "      <td>39</td>\n",
       "      <td>0</td>\n",
       "    </tr>\n",
       "    <tr>\n",
       "      <th>1</th>\n",
       "      <td>50</td>\n",
       "      <td>6</td>\n",
       "      <td>83311</td>\n",
       "      <td>9</td>\n",
       "      <td>13</td>\n",
       "      <td>2</td>\n",
       "      <td>4</td>\n",
       "      <td>0</td>\n",
       "      <td>4</td>\n",
       "      <td>1</td>\n",
       "      <td>0</td>\n",
       "      <td>0</td>\n",
       "      <td>13</td>\n",
       "      <td>39</td>\n",
       "      <td>0</td>\n",
       "    </tr>\n",
       "    <tr>\n",
       "      <th>2</th>\n",
       "      <td>38</td>\n",
       "      <td>4</td>\n",
       "      <td>215646</td>\n",
       "      <td>11</td>\n",
       "      <td>9</td>\n",
       "      <td>0</td>\n",
       "      <td>6</td>\n",
       "      <td>1</td>\n",
       "      <td>4</td>\n",
       "      <td>1</td>\n",
       "      <td>0</td>\n",
       "      <td>0</td>\n",
       "      <td>40</td>\n",
       "      <td>39</td>\n",
       "      <td>0</td>\n",
       "    </tr>\n",
       "    <tr>\n",
       "      <th>3</th>\n",
       "      <td>53</td>\n",
       "      <td>4</td>\n",
       "      <td>234721</td>\n",
       "      <td>1</td>\n",
       "      <td>7</td>\n",
       "      <td>2</td>\n",
       "      <td>6</td>\n",
       "      <td>0</td>\n",
       "      <td>2</td>\n",
       "      <td>1</td>\n",
       "      <td>0</td>\n",
       "      <td>0</td>\n",
       "      <td>40</td>\n",
       "      <td>39</td>\n",
       "      <td>0</td>\n",
       "    </tr>\n",
       "    <tr>\n",
       "      <th>4</th>\n",
       "      <td>28</td>\n",
       "      <td>4</td>\n",
       "      <td>338409</td>\n",
       "      <td>9</td>\n",
       "      <td>13</td>\n",
       "      <td>2</td>\n",
       "      <td>10</td>\n",
       "      <td>5</td>\n",
       "      <td>2</td>\n",
       "      <td>0</td>\n",
       "      <td>0</td>\n",
       "      <td>0</td>\n",
       "      <td>40</td>\n",
       "      <td>5</td>\n",
       "      <td>0</td>\n",
       "    </tr>\n",
       "  </tbody>\n",
       "</table>\n",
       "</div>"
      ],
      "text/plain": [
       "   age  workclass  fnlwgt  education  education-num  marital-status  \\\n",
       "0   39          7   77516          9             13               4   \n",
       "1   50          6   83311          9             13               2   \n",
       "2   38          4  215646         11              9               0   \n",
       "3   53          4  234721          1              7               2   \n",
       "4   28          4  338409          9             13               2   \n",
       "\n",
       "   occupation  relationship  race  sex  capital-gain  capital-loss  \\\n",
       "0           1             1     4    1          2174             0   \n",
       "1           4             0     4    1             0             0   \n",
       "2           6             1     4    1             0             0   \n",
       "3           6             0     2    1             0             0   \n",
       "4          10             5     2    0             0             0   \n",
       "\n",
       "   hours-per-week  native-country  income  \n",
       "0              40              39       0  \n",
       "1              13              39       0  \n",
       "2              40              39       0  \n",
       "3              40              39       0  \n",
       "4              40               5       0  "
      ]
     },
     "execution_count": 3,
     "metadata": {},
     "output_type": "execute_result"
    }
   ],
   "source": [
    "df_train.head()"
   ]
  },
  {
   "cell_type": "code",
   "execution_count": 4,
   "metadata": {
    "ExecuteTime": {
     "end_time": "2021-02-01T13:04:45.267931Z",
     "start_time": "2021-02-01T13:04:45.261976Z"
    }
   },
   "outputs": [],
   "source": [
    "if activate_profiling:\n",
    "    profile = ProfileReport(df_train, title=\"Pandas Profiling Report\")\n",
    "    profile.to_file(\"../reports/train.html\")\n",
    "    profile = ProfileReport(df_test, title=\"Pandas Profiling Report\")\n",
    "    profile.to_file(\"../reports/test.html\")"
   ]
  },
  {
   "cell_type": "code",
   "execution_count": 5,
   "metadata": {
    "ExecuteTime": {
     "end_time": "2021-02-01T13:04:45.324623Z",
     "start_time": "2021-02-01T13:04:45.283153Z"
    }
   },
   "outputs": [],
   "source": [
    "X_train = df_train.drop(target, axis=1)\n",
    "y_train = df_train[target]\n",
    "\n",
    "X_test = df_test.drop(target, axis=1)\n",
    "y_test = df_test[target]"
   ]
  },
  {
   "cell_type": "code",
   "execution_count": 6,
   "metadata": {
    "ExecuteTime": {
     "end_time": "2021-02-01T13:04:45.556618Z",
     "start_time": "2021-02-01T13:04:45.330752Z"
    }
   },
   "outputs": [
    {
     "data": {
      "text/plain": [
       "RandomForestClassifier(max_depth=4, max_features=3, min_samples_split=0.0001,\n",
       "                       n_estimators=7)"
      ]
     },
     "execution_count": 6,
     "metadata": {},
     "output_type": "execute_result"
    }
   ],
   "source": [
    "rf_clf = RandomForestClassifier(criterion= 'gini', max_depth= 4, max_features= 3, min_samples_split= .0001, n_estimators= 7)\n",
    "rf_clf.fit(X_train, y_train)"
   ]
  },
  {
   "cell_type": "code",
   "execution_count": 7,
   "metadata": {
    "ExecuteTime": {
     "end_time": "2021-02-01T13:04:45.653791Z",
     "start_time": "2021-02-01T13:04:45.570777Z"
    }
   },
   "outputs": [
    {
     "data": {
      "text/plain": [
       "0.840366070880167"
      ]
     },
     "execution_count": 7,
     "metadata": {},
     "output_type": "execute_result"
    }
   ],
   "source": [
    "rf_clf.score(X_test, y_test)"
   ]
  },
  {
   "cell_type": "code",
   "execution_count": 8,
   "metadata": {
    "ExecuteTime": {
     "end_time": "2021-02-01T13:04:45.715155Z",
     "start_time": "2021-02-01T13:04:45.679077Z"
    }
   },
   "outputs": [],
   "source": [
    "from sklearn.metrics import f1_score"
   ]
  },
  {
   "cell_type": "code",
   "execution_count": 9,
   "metadata": {
    "ExecuteTime": {
     "end_time": "2021-02-01T13:04:45.954606Z",
     "start_time": "2021-02-01T13:04:45.739207Z"
    }
   },
   "outputs": [
    {
     "data": {
      "text/plain": [
       "0.5744227935156377"
      ]
     },
     "execution_count": 9,
     "metadata": {},
     "output_type": "execute_result"
    }
   ],
   "source": [
    "f1_score(y_test, rf_clf.predict(X_test), zero_division=1)"
   ]
  },
  {
   "cell_type": "code",
   "execution_count": 10,
   "metadata": {
    "ExecuteTime": {
     "end_time": "2021-02-01T13:04:46.011844Z",
     "start_time": "2021-02-01T13:04:45.962665Z"
    }
   },
   "outputs": [],
   "source": [
    "probs = rf_clf.predict_proba(X_test)"
   ]
  },
  {
   "cell_type": "code",
   "execution_count": 11,
   "metadata": {
    "ExecuteTime": {
     "end_time": "2021-02-01T13:04:46.034034Z",
     "start_time": "2021-02-01T13:04:46.017342Z"
    }
   },
   "outputs": [],
   "source": [
    "probs = probs[:, 1]"
   ]
  },
  {
   "cell_type": "code",
   "execution_count": 12,
   "metadata": {
    "ExecuteTime": {
     "end_time": "2021-02-01T13:04:46.102604Z",
     "start_time": "2021-02-01T13:04:46.047407Z"
    }
   },
   "outputs": [
    {
     "name": "stdout",
     "output_type": "stream",
     "text": [
      "AUC: 0.88\n"
     ]
    }
   ],
   "source": [
    "auc = roc_auc_score(y_test, probs)\n",
    "print('AUC: %.2f' % auc)"
   ]
  },
  {
   "cell_type": "code",
   "execution_count": 13,
   "metadata": {
    "ExecuteTime": {
     "end_time": "2021-02-01T13:04:46.188433Z",
     "start_time": "2021-02-01T13:04:46.134703Z"
    }
   },
   "outputs": [],
   "source": [
    "fpr, tpr, thresholds = roc_curve(y_test, probs)"
   ]
  },
  {
   "cell_type": "code",
   "execution_count": 14,
   "metadata": {
    "ExecuteTime": {
     "end_time": "2021-02-01T13:04:46.232360Z",
     "start_time": "2021-02-01T13:04:46.211663Z"
    }
   },
   "outputs": [],
   "source": [
    "def plot_roc_curve(fpr, tpr):\n",
    "    plt.plot(fpr, tpr, color='orange', label='ROC')\n",
    "    plt.plot([0, 1], [0, 1], color='darkblue', linestyle='--')\n",
    "    plt.xlabel('False Positive Rate')\n",
    "    plt.ylabel('True Positive Rate')\n",
    "    plt.title('Receiver Operating Characteristic (ROC) Curve')\n",
    "    plt.legend()\n",
    "    plt.show()"
   ]
  },
  {
   "cell_type": "code",
   "execution_count": 15,
   "metadata": {
    "ExecuteTime": {
     "end_time": "2021-02-01T13:04:46.744755Z",
     "start_time": "2021-02-01T13:04:46.245820Z"
    }
   },
   "outputs": [
    {
     "data": {
      "image/png": "[encoded data removed]",
      "text/plain": [
       "<Figure size 432x288 with 1 Axes>"
      ]
     },
     "metadata": {
      "needs_background": "light"
     },
     "output_type": "display_data"
    }
   ],
   "source": [
    "plot_roc_curve(fpr, tpr)"
   ]
  },
  {
   "cell_type": "code",
   "execution_count": 16,
   "metadata": {
    "ExecuteTime": {
     "end_time": "2021-02-01T13:04:46.961711Z",
     "start_time": "2021-02-01T13:04:46.748514Z"
    }
   },
   "outputs": [],
   "source": [
    "from hyperopt import hp, fmin, tpe, STATUS_OK, Trials\n",
    "space =  {\n",
    "        'type': 'RandomForestClassifier',\n",
    "        'max_depth': hp.choice('max_depth', range(10,15)),\n",
    "        'max_features': hp.choice('max_features', range(4,8)),\n",
    "        'n_estimators': hp.choice('n_estimators', range(25,35)),\n",
    "        'criterion': hp.choice('criterion', [\"gini\", \"entropy\"]),\n",
    "        'min_samples_split': hp.choice('min_samples_split', [.1,.01,.001,.0001])\n",
    "    }"
   ]
  },
  {
   "cell_type": "code",
   "execution_count": 17,
   "metadata": {
    "ExecuteTime": {
     "end_time": "2021-02-01T13:17:29.727512Z",
     "start_time": "2021-02-01T13:04:46.975219Z"
    }
   },
   "outputs": [
    {
     "name": "stdout",
     "output_type": "stream",
     "text": [
      "new best:                                              \n",
      "0.8619208898400516                                     \n",
      "using                                                  \n",
      "{'criterion': 'entropy', 'max_depth': 13, 'max_features': 4, 'min_samples_split': 0.0001, 'n_estimators': 27, 'type': 'RandomForestClassifier'}\n",
      "new best:                                                                         \n",
      "0.8630264324875103                                                                \n",
      "using                                                                             \n",
      "{'criterion': 'entropy', 'max_depth': 14, 'max_features': 4, 'min_samples_split': 0.001, 'n_estimators': 34, 'type': 'RandomForestClassifier'}\n",
      "new best:                                                                          \n",
      "0.8635792721870565                                                                 \n",
      "using                                                                              \n",
      "{'criterion': 'gini', 'max_depth': 13, 'max_features': 5, 'min_samples_split': 0.0001, 'n_estimators': 25, 'type': 'RandomForestClassifier'}\n",
      "new best:                                                                          \n",
      "0.8636099469931805                                                                 \n",
      "using                                                                              \n",
      "{'criterion': 'gini', 'max_depth': 13, 'max_features': 5, 'min_samples_split': 0.001, 'n_estimators': 25, 'type': 'RandomForestClassifier'}\n",
      "new best:                                                                          \n",
      "0.8636099705710484                                                                 \n",
      "using                                                                              \n",
      "{'criterion': 'gini', 'max_depth': 13, 'max_features': 5, 'min_samples_split': 0.001, 'n_estimators': 25, 'type': 'RandomForestClassifier'}\n",
      "new best:                                                                          \n",
      "0.86373284898734                                                                   \n",
      "using                                                                              \n",
      "{'criterion': 'gini', 'max_depth': 13, 'max_features': 5, 'min_samples_split': 0.001, 'n_estimators': 30, 'type': 'RandomForestClassifier'}\n",
      "new best:                                                                          \n",
      "0.86413205529972                                                                 \n",
      "using                                                                            \n",
      "{'criterion': 'gini', 'max_depth': 14, 'max_features': 5, 'min_samples_split': 0.001, 'n_estimators': 33, 'type': 'RandomForestClassifier'}\n",
      "iters:                                                                           \n",
      "50                                                                               \n",
      ", acc:                                                                           \n",
      "0.8635793146272188                                                               \n",
      "using                                                                            \n",
      "{'criterion': 'gini', 'max_depth': 14, 'max_features': 5, 'min_samples_split': 0.001, 'n_estimators': 30, 'type': 'RandomForestClassifier'}\n",
      "new best:                                                                        \n",
      "0.8646541966152744                                                               \n",
      "using                                                                            \n",
      "{'criterion': 'gini', 'max_depth': 14, 'max_features': 4, 'min_samples_split': 0.001, 'n_estimators': 27, 'type': 'RandomForestClassifier'}\n",
      "iters:                                                                             \n",
      "100                                                                                \n",
      ", acc:                                                                             \n",
      "0.8620129472674382                                                                 \n",
      "using                                                                              \n",
      "{'criterion': 'entropy', 'max_depth': 14, 'max_features': 4, 'min_samples_split': 0.001, 'n_estimators': 25, 'type': 'RandomForestClassifier'}\n",
      "100%|██████████| 100/100 [12:42<00:00,  7.63s/trial, best loss: -0.8646541966152744]\n",
      "best:\n",
      "{'criterion': 0, 'max_depth': 4, 'max_features': 0, 'min_samples_split': 2, 'n_estimators': 2}\n"
     ]
    }
   ],
   "source": [
    "def objective(params):\n",
    "    t = params.pop('type')\n",
    "    test = eval(t)\n",
    "    clf = test(**params)\n",
    "    return cross_val_score(clf, X_train, y_train,cv=5).mean()\n",
    "\n",
    "count = 0\n",
    "best = 0\n",
    "\n",
    "# Function to try and find the best parameters\n",
    "def f(params):\n",
    "    global best, count\n",
    "    count += 1\n",
    "    acc = objective(params.copy())\n",
    "    if acc > best:\n",
    "        print ('new best:', acc, 'using', params)\n",
    "        best = acc\n",
    "    if count % 50 == 0:\n",
    "        print ('iters:', count, ', acc:', acc, 'using', params)\n",
    "    return {'loss': -acc, 'status': STATUS_OK}\n",
    "\n",
    "# Initializing hyperopt trials\n",
    "trials = Trials()\n",
    "best = fmin(f, space, algo=tpe.suggest, max_evals=100, trials=trials)\n",
    "print ('best:')\n",
    "print (best)"
   ]
  },
  {
   "cell_type": "code",
   "execution_count": 18,
   "metadata": {
    "ExecuteTime": {
     "end_time": "2021-02-01T13:17:29.768011Z",
     "start_time": "2021-02-01T13:17:29.745336Z"
    }
   },
   "outputs": [
    {
     "data": {
      "text/plain": [
       "{'bootstrap': True,\n",
       " 'ccp_alpha': 0.0,\n",
       " 'class_weight': None,\n",
       " 'criterion': 'gini',\n",
       " 'max_depth': None,\n",
       " 'max_features': 'auto',\n",
       " 'max_leaf_nodes': None,\n",
       " 'max_samples': None,\n",
       " 'min_impurity_decrease': 0.0,\n",
       " 'min_impurity_split': None,\n",
       " 'min_samples_leaf': 1,\n",
       " 'min_samples_split': 2,\n",
       " 'min_weight_fraction_leaf': 0.0,\n",
       " 'n_estimators': 100,\n",
       " 'n_jobs': None,\n",
       " 'oob_score': False,\n",
       " 'random_state': None,\n",
       " 'verbose': 0,\n",
       " 'warm_start': False}"
      ]
     },
     "execution_count": 18,
     "metadata": {},
     "output_type": "execute_result"
    }
   ],
   "source": [
    "RandomForestClassifier().get_params()"
   ]
  },
  {
   "cell_type": "code",
   "execution_count": null,
   "metadata": {},
   "outputs": [],
   "source": []
  }
 ],
 "metadata": {
  "kernelspec": {
   "display_name": "base",
   "language": "python",
   "name": "base"
  },
  "language_info": {
   "codemirror_mode": {
    "name": "ipython",
    "version": 3
   },
   "file_extension": ".py",
   "mimetype": "text/x-python",
   "name": "python",
   "nbconvert_exporter": "python",
   "pygments_lexer": "ipython3",
   "version": "3.8.5"
  }
 },
 "nbformat": 4,
 "nbformat_minor": 4
}
